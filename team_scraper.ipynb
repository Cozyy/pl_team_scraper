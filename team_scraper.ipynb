{
 "cells": [
  {
   "cell_type": "code",
   "execution_count": 1,
   "metadata": {},
   "outputs": [],
   "source": [
    "teamlink_nms = \"https://www.primeleague.gg/leagues/teams/185633-nms-crime\"\n",
    "teamlink_sfd = 'https://www.primeleague.gg/leagues/teams/105731-sfd-gaming-snek-pack'\n",
    "match_url = 'https://www.primeleague.gg/leagues/matches/930121-we-dont-know-vs-nms-crime' "
   ]
  },
  {
   "cell_type": "code",
   "execution_count": null,
   "metadata": {},
   "outputs": [],
   "source": []
  }
 ],
 "metadata": {
  "interpreter": {
   "hash": "8d7b6e10fd07fde6c2f587d09828e7edc2b921a43b919bc18fdb6300dde9864f"
  },
  "kernelspec": {
   "display_name": "Python 3.8.10 ('mp21')",
   "language": "python",
   "name": "python3"
  },
  "language_info": {
   "codemirror_mode": {
    "name": "ipython",
    "version": 3
   },
   "file_extension": ".py",
   "mimetype": "text/x-python",
   "name": "python",
   "nbconvert_exporter": "python",
   "pygments_lexer": "ipython3",
   "version": "3.8.10"
  },
  "orig_nbformat": 4
 },
 "nbformat": 4,
 "nbformat_minor": 2
}
